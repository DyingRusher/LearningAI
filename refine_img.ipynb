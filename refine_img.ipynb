{
 "cells": [
  {
   "cell_type": "code",
   "execution_count": null,
   "metadata": {},
   "outputs": [
    {
     "name": "stderr",
     "output_type": "stream",
     "text": [
      "c:\\Users\\ASUS\\miniconda3\\envs\\gpu\\lib\\site-packages\\tqdm\\auto.py:21: TqdmWarning: IProgress not found. Please update jupyter and ipywidgets. See https://ipywidgets.readthedocs.io/en/stable/user_install.html\n",
      "  from .autonotebook import tqdm as notebook_tqdm\n",
      "Fetching 13 files:   0%|          | 0/13 [00:00<?, ?it/s]"
     ]
    }
   ],
   "source": [
    "import torch\n",
    "from diffusers import  DiffusionPipeline\n",
    "\n",
    "\n",
    "prompt = \"a photo of an astronaut riding a horse on mars\"\n",
    "\n",
    "base = DiffusionPipeline.from_pretrained('stabilityai/stable-diffusion-2-1',\n",
    "                                             torch_dtype=torch.float16,\n",
    "                                             variant='fp16',\n",
    "                                             use_safetensors=True)\n",
    "\n",
    "refiner = DiffusionPipeline.from_pretrained(\n",
    "            \"stabilityai/stable-diffusion-xl-base-1.0\",\n",
    "            text_encoder_2=base.text_encoder_2,\n",
    "            vae=base.vae,\n",
    "            torch_dtype=torch.float16,\n",
    "            use_safetensors=True,\n",
    "            variant='fp16',\n",
    "        )\n",
    "\n",
    "refiner.enable_model_cpu_offload()\n",
    "\n",
    "refined_model = refiner.to(\"cuda\")\n",
    "\n",
    "image = base(prompt=prompt, num_inference_steps=20, denoising_end=0.8,\n",
    "                     output_type=\"latent\", verbose=False, guidance_scale=15,\n",
    "                     temprature=0.7).images\n",
    "\n",
    "image = refiner(prompt=prompt, num_inference_steps=20, denoising_start=0.8,\n",
    "                        image=image, verbose=False).images[0]"
   ]
  },
  {
   "cell_type": "code",
   "execution_count": 1,
   "metadata": {},
   "outputs": [
    {
     "name": "stdout",
     "output_type": "stream",
     "text": [
      "df\n"
     ]
    }
   ],
   "source": [
    "print(\"df\")"
   ]
  },
  {
   "cell_type": "code",
   "execution_count": null,
   "metadata": {},
   "outputs": [],
   "source": []
  }
 ],
 "metadata": {
  "kernelspec": {
   "display_name": "gpu",
   "language": "python",
   "name": "python3"
  },
  "language_info": {
   "codemirror_mode": {
    "name": "ipython",
    "version": 3
   },
   "file_extension": ".py",
   "mimetype": "text/x-python",
   "name": "python",
   "nbconvert_exporter": "python",
   "pygments_lexer": "ipython3",
   "version": "3.10.13"
  }
 },
 "nbformat": 4,
 "nbformat_minor": 2
}
