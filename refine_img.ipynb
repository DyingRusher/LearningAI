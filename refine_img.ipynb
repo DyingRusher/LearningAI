{
 "cells": [
  {
   "cell_type": "code",
   "execution_count": null,
   "metadata": {},
   "outputs": [
    {
     "name": "stderr",
     "output_type": "stream",
     "text": [
      "c:\\Users\\ASUS\\miniconda3\\envs\\gpu\\lib\\site-packages\\tqdm\\auto.py:21: TqdmWarning: IProgress not found. Please update jupyter and ipywidgets. See https://ipywidgets.readthedocs.io/en/stable/user_install.html\n",
      "  from .autonotebook import tqdm as notebook_tqdm\n",
      "Keyword arguments {'widht': 512, 'height': 512} are not expected by StableDiffusionXLImg2ImgPipeline and will be ignored.\n",
      "Loading pipeline components...: 100%|██████████| 5/5 [00:29<00:00,  5.85s/it]\n",
      " 71%|███████▏  | 5/7 [02:56<01:12, 36.37s/it]"
     ]
    }
   ],
   "source": [
    "import torch\n",
    "from diffusers import StableDiffusionPipeline, DPMSolverMultistepScheduler ,DiffusionPipeline\n",
    "from diffusers import StableDiffusionXLImg2ImgPipeline\n",
    "from diffusers.utils import load_image\n",
    "\n",
    "\n",
    "\n",
    "image = load_image(\"astronaut_rides_horse_simple.png\")\n",
    "prompt = \"a photo of an astronaut riding a horse on mars\"\n",
    "\n",
    "\n",
    "refined_model = StableDiffusionXLImg2ImgPipeline.from_pretrained(\n",
    "    'stabilityai/stable-diffusion-xl-refiner-1.0',\n",
    "    widht=512,\n",
    "    height=512,\n",
    "    variant='fp16'\n",
    ")\n",
    "\n",
    "refined_model = refined_model.to(\"cuda\")\n",
    "\n",
    "# img_l = pipe(prompt=prompt,num_inference_steps=num_inference_steps,denoising_strength=denoising_factor,output_type='latent').images[0] # out will be vector of vector with [-1,1]\n",
    "\n",
    "# torch.cuda.empty_cache()\n",
    "\n",
    "# img_l = img_l.unsqueeze(0)\n",
    "\n",
    "final_img = refined_model(prompt=prompt,num_inference_steps = 25 ,denoising_strength = 0.8,image = image).images[0]\n",
    "\n"
   ]
  },
  {
   "cell_type": "code",
   "execution_count": null,
   "metadata": {},
   "outputs": [
    {
     "ename": "NameError",
     "evalue": "name 'final_img' is not defined",
     "output_type": "error",
     "traceback": [
      "\u001b[1;31m---------------------------------------------------------------------------\u001b[0m",
      "\u001b[1;31mNameError\u001b[0m                                 Traceback (most recent call last)",
      "Cell \u001b[1;32mIn[1], line 1\u001b[0m\n\u001b[1;32m----> 1\u001b[0m \u001b[38;5;28mprint\u001b[39m(\u001b[43mfinal_img\u001b[49m,\u001b[38;5;28mtype\u001b[39m(final_img))\n",
      "\u001b[1;31mNameError\u001b[0m: name 'final_img' is not defined"
     ]
    }
   ],
   "source": [
    "print(final_img,type(final_img))"
   ]
  },
  {
   "cell_type": "code",
   "execution_count": null,
   "metadata": {},
   "outputs": [],
   "source": []
  }
 ],
 "metadata": {
  "kernelspec": {
   "display_name": "gpu",
   "language": "python",
   "name": "python3"
  },
  "language_info": {
   "codemirror_mode": {
    "name": "ipython",
    "version": 3
   },
   "file_extension": ".py",
   "mimetype": "text/x-python",
   "name": "python",
   "nbconvert_exporter": "python",
   "pygments_lexer": "ipython3",
   "version": "3.10.13"
  }
 },
 "nbformat": 4,
 "nbformat_minor": 2
}
